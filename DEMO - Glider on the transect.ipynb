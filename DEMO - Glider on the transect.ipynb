{
 "cells": [
  {
   "cell_type": "markdown",
   "id": "a2c2c588-1d5e-41bc-84fe-49a4c9952c55",
   "metadata": {},
   "source": [
    "# Glimpse command console data analysis"
   ]
  },
  {
   "cell_type": "markdown",
   "id": "28aad426",
   "metadata": {},
   "source": [
    "This is an example to show how the command console data can be analaysed. In this way, we show how to set up a system such that the user can get notified when the glider is outside the transect. \n",
    "\n",
    "This example shows data from a local folder and in case the user wants to automatize it, it would then need to be sure these files are constantly sent by Glimpse and the code can run automatically (crontab job)"
   ]
  },
  {
   "cell_type": "code",
   "execution_count": 3,
   "id": "295e7e81-3861-4ba8-ad48-f587f153f375",
   "metadata": {},
   "outputs": [],
   "source": [
    "from io import StringIO\n",
    "from shapely.geometry import LineString\n",
    "from shapely.geometry import Polygon\n",
    "from glob import glob\n",
    "from matplotlib import style\n",
    "import pandas as pd\n",
    "import numpy as np\n",
    "import matplotlib.pyplot as plt\n",
    "import geopandas as gpd\n",
    "import datetime\n",
    "import subprocess\n",
    "import pathlib\n",
    "import logging\n",
    "import os\n",
    "import tqdm\n",
    "import json "
   ]
  },
  {
   "cell_type": "markdown",
   "id": "e516675e",
   "metadata": {},
   "source": [
    "#### Specify location of the command console data and other necessary files"
   ]
  },
  {
   "cell_type": "code",
   "execution_count": 4,
   "id": "60480a05",
   "metadata": {},
   "outputs": [],
   "source": [
    "loc = 'C:/Users/monfo/OneDrive/Desktop/VOTO/CMD_data/glimpse-data/'\n",
    "# not sender = \"/home/chiara/pilot_scripts/send_mail.sh\"\n",
    "# mission_WP = json.load(open('/home/chiara/pilot_scripts/mission_wp.json'))\n",
    "# mails = open('/home/chiara/pilot_scripts/mail_list.txt').read().split(\",\") "
   ]
  },
  {
   "cell_type": "markdown",
   "id": "c56f3da3",
   "metadata": {},
   "source": [
    "## Laod the command console data \n",
    "\n",
    "* 1) Enter every folder in this directory (each folder is a glider) and open the folder with the highest number, ie latest mission available for that glider.\n",
    "* 2) Once we get access to the lastest mission, check if the g-log folder exixts and if it does, then check if there is data in the last 24h or not\n",
    "* 2) If there is data from the last 24h, then we consider that an active mission and we want to analyse it\n"
   ]
  },
  {
   "cell_type": "code",
   "execution_count": 5,
   "id": "c453c0a2",
   "metadata": {},
   "outputs": [],
   "source": [
    "active_mission = []\n",
    "for gli in glob(f\"{loc}*\", recursive=True):\n",
    "    gli_missions = glob(f\"{gli}/*\", recursive=True)\n",
    "    max_mission = max(gli_missions)\n",
    "    log_data = list(pathlib.Path(f'{max_mission}/G-Logs').glob('*.com.raw.log'))\n",
    "    if len(log_data) == 0:  # In case the g-log does not exist (rsync from Alseamar was rather recent)\n",
    "        continue\n",
    "    cmd_data = pd.read_csv(log_data[0], sep=\";\", header=0)\n",
    "    cmd_data.DATE_TIME = pd.to_datetime(cmd_data.DATE_TIME, dayfirst=True, yearfirst=False, )\n",
    "    latest = cmd_data.where(cmd_data.DATE_TIME > datetime.datetime.now() - datetime.timedelta(hours=24)).dropna()\n",
    "    if len(latest) > 0:\n",
    "        active_mission.append(log_data[0])"
   ]
  },
  {
   "cell_type": "code",
   "execution_count": 6,
   "id": "1bc42357",
   "metadata": {},
   "outputs": [
    {
     "data": {
      "text/plain": [
       "[WindowsPath('C:/Users/monfo/OneDrive/Desktop/VOTO/CMD_data/glimpse-data/SEA063/000067/G-Logs/sea063.67.com.raw.log'),\n",
       " WindowsPath('C:/Users/monfo/OneDrive/Desktop/VOTO/CMD_data/glimpse-data/SEA066/000052/G-Logs/sea066.52.com.raw.log'),\n",
       " WindowsPath('C:/Users/monfo/OneDrive/Desktop/VOTO/CMD_data/glimpse-data/SEA069/000021/G-Logs/sea069.21.com.raw.log'),\n",
       " WindowsPath('C:/Users/monfo/OneDrive/Desktop/VOTO/CMD_data/glimpse-data/SEA076/000021/G-Logs/sea076.21.com.raw.log')]"
      ]
     },
     "execution_count": 6,
     "metadata": {},
     "output_type": "execute_result"
    }
   ],
   "source": [
    "active_mission"
   ]
  },
  {
   "cell_type": "markdown",
   "id": "79323d27",
   "metadata": {},
   "source": [
    "The way the commands look like when loaded as pandas dataframes is as follows"
   ]
  },
  {
   "cell_type": "code",
   "execution_count": 7,
   "id": "755d2271",
   "metadata": {},
   "outputs": [
    {
     "data": {
      "text/html": [
       "<div>\n",
       "<style scoped>\n",
       "    .dataframe tbody tr th:only-of-type {\n",
       "        vertical-align: middle;\n",
       "    }\n",
       "\n",
       "    .dataframe tbody tr th {\n",
       "        vertical-align: top;\n",
       "    }\n",
       "\n",
       "    .dataframe thead th {\n",
       "        text-align: right;\n",
       "    }\n",
       "</style>\n",
       "<table border=\"1\" class=\"dataframe\">\n",
       "  <thead>\n",
       "    <tr style=\"text-align: right;\">\n",
       "      <th></th>\n",
       "      <th>DATE_TIME</th>\n",
       "      <th>LOG_LEVEL</th>\n",
       "      <th>MODULE</th>\n",
       "      <th>EMITTER/RECEIVER</th>\n",
       "      <th>ID_GLIDER</th>\n",
       "      <th>LOG_MSG</th>\n",
       "    </tr>\n",
       "  </thead>\n",
       "  <tbody>\n",
       "    <tr>\n",
       "      <th>0</th>\n",
       "      <td>13.11.2023 13:58:28.438</td>\n",
       "      <td>INFO</td>\n",
       "      <td>module-IrisCom</td>\n",
       "      <td>Iridium</td>\n",
       "      <td>SEA063</td>\n",
       "      <td>Glider Connected !</td>\n",
       "    </tr>\n",
       "    <tr>\n",
       "      <th>1</th>\n",
       "      <td>13.11.2023 13:58:28.438</td>\n",
       "      <td>TRACE</td>\n",
       "      <td>module-IrisCom</td>\n",
       "      <td>Glider</td>\n",
       "      <td>SEA063</td>\n",
       "      <td>112</td>\n",
       "    </tr>\n",
       "    <tr>\n",
       "      <th>2</th>\n",
       "      <td>13.11.2023 13:58:28.438</td>\n",
       "      <td>TRACE</td>\n",
       "      <td>module-IrisCom</td>\n",
       "      <td>Glider</td>\n",
       "      <td>SEA063</td>\n",
       "      <td>done (a): Waiting for RESUME</td>\n",
       "    </tr>\n",
       "    <tr>\n",
       "      <th>3</th>\n",
       "      <td>13.11.2023 13:58:28.438</td>\n",
       "      <td>TRACE</td>\n",
       "      <td>module-IrisCom</td>\n",
       "      <td>Glider</td>\n",
       "      <td>SEA063</td>\n",
       "      <td>$SEAMRS,SEA063,67,1,0,292,131123,135820,5534.2...</td>\n",
       "    </tr>\n",
       "    <tr>\n",
       "      <th>4</th>\n",
       "      <td>13.11.2023 13:58:28.438</td>\n",
       "      <td>TRACE</td>\n",
       "      <td>module-IrisCom</td>\n",
       "      <td>Glider</td>\n",
       "      <td>SEA063</td>\n",
       "      <td>$SEANAV,1,-9999,1020,-102</td>\n",
       "    </tr>\n",
       "    <tr>\n",
       "      <th>...</th>\n",
       "      <td>...</td>\n",
       "      <td>...</td>\n",
       "      <td>...</td>\n",
       "      <td>...</td>\n",
       "      <td>...</td>\n",
       "      <td>...</td>\n",
       "    </tr>\n",
       "    <tr>\n",
       "      <th>6446</th>\n",
       "      <td>23.11.2023 07:16:41.516</td>\n",
       "      <td>TRACE</td>\n",
       "      <td>module-IrisCom</td>\n",
       "      <td>Glider</td>\n",
       "      <td>SEA063</td>\n",
       "      <td>$SEADRK,0,5529.273,1613.393,0.00,2013,0.32,270...</td>\n",
       "    </tr>\n",
       "    <tr>\n",
       "      <th>6447</th>\n",
       "      <td>23.11.2023 07:16:41.516</td>\n",
       "      <td>TRACE</td>\n",
       "      <td>module-IrisCom</td>\n",
       "      <td>Glider</td>\n",
       "      <td>SEA063</td>\n",
       "      <td>$go;</td>\n",
       "    </tr>\n",
       "    <tr>\n",
       "      <th>6448</th>\n",
       "      <td>23.11.2023 07:16:41.531</td>\n",
       "      <td>TRACE</td>\n",
       "      <td>module-IrisCom</td>\n",
       "      <td>Glider</td>\n",
       "      <td>SEA063</td>\n",
       "      <td>&gt;cmd: $go</td>\n",
       "    </tr>\n",
       "    <tr>\n",
       "      <th>6449</th>\n",
       "      <td>23.11.2023 07:16:49.047</td>\n",
       "      <td>TRACE</td>\n",
       "      <td>module-IrisCom</td>\n",
       "      <td>Glider</td>\n",
       "      <td>SEA063</td>\n",
       "      <td>done (a): Waiting for GO</td>\n",
       "    </tr>\n",
       "    <tr>\n",
       "      <th>6450</th>\n",
       "      <td>23.11.2023 07:16:59.500</td>\n",
       "      <td>INFO</td>\n",
       "      <td>module-IrisCom</td>\n",
       "      <td>Iridium</td>\n",
       "      <td>SEA063</td>\n",
       "      <td>Glider Hang !</td>\n",
       "    </tr>\n",
       "  </tbody>\n",
       "</table>\n",
       "<p>6451 rows × 6 columns</p>\n",
       "</div>"
      ],
      "text/plain": [
       "                    DATE_TIME LOG_LEVEL          MODULE EMITTER/RECEIVER  \\\n",
       "0     13.11.2023 13:58:28.438      INFO  module-IrisCom          Iridium   \n",
       "1     13.11.2023 13:58:28.438     TRACE  module-IrisCom           Glider   \n",
       "2     13.11.2023 13:58:28.438     TRACE  module-IrisCom           Glider   \n",
       "3     13.11.2023 13:58:28.438     TRACE  module-IrisCom           Glider   \n",
       "4     13.11.2023 13:58:28.438     TRACE  module-IrisCom           Glider   \n",
       "...                       ...       ...             ...              ...   \n",
       "6446  23.11.2023 07:16:41.516     TRACE  module-IrisCom           Glider   \n",
       "6447  23.11.2023 07:16:41.516     TRACE  module-IrisCom           Glider   \n",
       "6448  23.11.2023 07:16:41.531     TRACE  module-IrisCom           Glider   \n",
       "6449  23.11.2023 07:16:49.047     TRACE  module-IrisCom           Glider   \n",
       "6450  23.11.2023 07:16:59.500      INFO  module-IrisCom          Iridium   \n",
       "\n",
       "     ID_GLIDER                                            LOG_MSG  \n",
       "0       SEA063                                 Glider Connected !  \n",
       "1       SEA063                                                112  \n",
       "2       SEA063                       done (a): Waiting for RESUME  \n",
       "3       SEA063  $SEAMRS,SEA063,67,1,0,292,131123,135820,5534.2...  \n",
       "4       SEA063                          $SEANAV,1,-9999,1020,-102  \n",
       "...        ...                                                ...  \n",
       "6446    SEA063  $SEADRK,0,5529.273,1613.393,0.00,2013,0.32,270...  \n",
       "6447    SEA063                                               $go;  \n",
       "6448    SEA063                                          >cmd: $go  \n",
       "6449    SEA063                           done (a): Waiting for GO  \n",
       "6450    SEA063                                      Glider Hang !  \n",
       "\n",
       "[6451 rows x 6 columns]"
      ]
     },
     "execution_count": 7,
     "metadata": {},
     "output_type": "execute_result"
    }
   ],
   "source": [
    "pd.read_csv(active_mission[0], sep=\";\", header=0)"
   ]
  },
  {
   "cell_type": "markdown",
   "id": "19faacf6",
   "metadata": {},
   "source": [
    "We therefore want to separate the info contained in the 'LOG_MSG' column in order to easily sort the vaious NMEA sentences and the info contained"
   ]
  },
  {
   "cell_type": "markdown",
   "id": "2fb69c9d",
   "metadata": {},
   "source": [
    "### Create a dataframe for the glider data from the command console \n",
    "For each active mission we create a pandas dataframe with timestamp, latitude, longitude and the cycle number"
   ]
  },
  {
   "cell_type": "code",
   "execution_count": 8,
   "id": "39685b72",
   "metadata": {},
   "outputs": [],
   "source": [
    "def load_cmd(path):\n",
    "    df = pd.read_csv(path, sep=\";\", header=0)\n",
    "    a = df['LOG_MSG'].str.split(',', expand=True)\n",
    "    cmd = pd.concat([df, a], axis=1)\n",
    "\n",
    "    # Transform time from object to datetime\n",
    "    cmd.DATE_TIME = pd.to_datetime(cmd.DATE_TIME, dayfirst=True, yearfirst=False, )\n",
    "    # Add cycle\n",
    "    cmd['cycle'] = cmd.where(cmd[0] == '$SEAMRS').dropna(how='all')[3]\n",
    "    # create lat lon columns in decimal degrees\n",
    "    cmd['lat'] = cmd.where(cmd[0] == '$SEAMRS').dropna(how='all')[8].str.rsplit('*').str[0]\n",
    "    cmd['lon'] = cmd.where(cmd[0] == '$SEAMRS').dropna(how='all')[9].str.rsplit('*').str[0]\n",
    "    cmd['lat'] = cmd.where(cmd[0] == '$SEAMRS').dropna(how='all').lat.replace('', np.nan).dropna(how='all').astype(float)\n",
    "    cmd['lon'] = cmd.where(cmd[0] == '$SEAMRS').dropna(how='all').lon.replace('', np.nan).dropna(how='all').astype(float)\n",
    "    \n",
    "    #The SEAMRS nmea sentence prints the coordinates in ddmm.mmm so we what to transform them into dd.dddd\n",
    "    def dd_coord(x):\n",
    "        degrees = x // 100\n",
    "        minutes = x - 100 * degrees\n",
    "        res = degrees + minutes / 60\n",
    "        return res\n",
    "\n",
    "    df_glider = pd.DataFrame({\"time\": cmd.dropna(subset=['lon', 'lat']).DATE_TIME,\n",
    "                              \"lon\": dd_coord(cmd['lon'].dropna().astype(float).values),\n",
    "                              \"lat\": dd_coord(cmd['lat'].dropna().astype(float).values),\n",
    "                              \"cycle\": cmd.dropna(subset=['lon', 'lat']).cycle})\n",
    "    return df_glider"
   ]
  },
  {
   "cell_type": "markdown",
   "id": "0119e9bd",
   "metadata": {},
   "source": [
    "This way, the dataset would now look like this:"
   ]
  },
  {
   "cell_type": "code",
   "execution_count": 9,
   "id": "6165b95d",
   "metadata": {},
   "outputs": [
    {
     "data": {
      "text/html": [
       "<div>\n",
       "<style scoped>\n",
       "    .dataframe tbody tr th:only-of-type {\n",
       "        vertical-align: middle;\n",
       "    }\n",
       "\n",
       "    .dataframe tbody tr th {\n",
       "        vertical-align: top;\n",
       "    }\n",
       "\n",
       "    .dataframe thead th {\n",
       "        text-align: right;\n",
       "    }\n",
       "</style>\n",
       "<table border=\"1\" class=\"dataframe\">\n",
       "  <thead>\n",
       "    <tr style=\"text-align: right;\">\n",
       "      <th></th>\n",
       "      <th>time</th>\n",
       "      <th>lon</th>\n",
       "      <th>lat</th>\n",
       "      <th>cycle</th>\n",
       "    </tr>\n",
       "  </thead>\n",
       "  <tbody>\n",
       "    <tr>\n",
       "      <th>3</th>\n",
       "      <td>2023-11-13 13:58:28.438</td>\n",
       "      <td>16.351233</td>\n",
       "      <td>55.570583</td>\n",
       "      <td>1</td>\n",
       "    </tr>\n",
       "    <tr>\n",
       "      <th>8</th>\n",
       "      <td>2023-11-13 13:58:28.876</td>\n",
       "      <td>16.351250</td>\n",
       "      <td>55.570567</td>\n",
       "      <td>1</td>\n",
       "    </tr>\n",
       "    <tr>\n",
       "      <th>12</th>\n",
       "      <td>2023-11-13 13:58:43.391</td>\n",
       "      <td>16.351267</td>\n",
       "      <td>55.570533</td>\n",
       "      <td>1</td>\n",
       "    </tr>\n",
       "    <tr>\n",
       "      <th>20</th>\n",
       "      <td>2023-11-13 14:01:44.449</td>\n",
       "      <td>16.351433</td>\n",
       "      <td>55.570533</td>\n",
       "      <td>1</td>\n",
       "    </tr>\n",
       "    <tr>\n",
       "      <th>25</th>\n",
       "      <td>2023-11-13 14:01:44.840</td>\n",
       "      <td>16.351450</td>\n",
       "      <td>55.570533</td>\n",
       "      <td>1</td>\n",
       "    </tr>\n",
       "    <tr>\n",
       "      <th>...</th>\n",
       "      <td>...</td>\n",
       "      <td>...</td>\n",
       "      <td>...</td>\n",
       "      <td>...</td>\n",
       "    </tr>\n",
       "    <tr>\n",
       "      <th>6388</th>\n",
       "      <td>2023-11-23 07:14:34.331</td>\n",
       "      <td>16.223633</td>\n",
       "      <td>55.487967</td>\n",
       "      <td>439</td>\n",
       "    </tr>\n",
       "    <tr>\n",
       "      <th>6396</th>\n",
       "      <td>2023-11-23 07:14:54.315</td>\n",
       "      <td>16.223550</td>\n",
       "      <td>55.487950</td>\n",
       "      <td>439</td>\n",
       "    </tr>\n",
       "    <tr>\n",
       "      <th>6412</th>\n",
       "      <td>2023-11-23 07:15:44.345</td>\n",
       "      <td>16.223367</td>\n",
       "      <td>55.487917</td>\n",
       "      <td>439</td>\n",
       "    </tr>\n",
       "    <tr>\n",
       "      <th>6423</th>\n",
       "      <td>2023-11-23 07:15:58.314</td>\n",
       "      <td>16.223333</td>\n",
       "      <td>55.487933</td>\n",
       "      <td>439</td>\n",
       "    </tr>\n",
       "    <tr>\n",
       "      <th>6439</th>\n",
       "      <td>2023-11-23 07:16:38.344</td>\n",
       "      <td>16.223217</td>\n",
       "      <td>55.487883</td>\n",
       "      <td>439</td>\n",
       "    </tr>\n",
       "  </tbody>\n",
       "</table>\n",
       "<p>518 rows × 4 columns</p>\n",
       "</div>"
      ],
      "text/plain": [
       "                        time        lon        lat cycle\n",
       "3    2023-11-13 13:58:28.438  16.351233  55.570583     1\n",
       "8    2023-11-13 13:58:28.876  16.351250  55.570567     1\n",
       "12   2023-11-13 13:58:43.391  16.351267  55.570533     1\n",
       "20   2023-11-13 14:01:44.449  16.351433  55.570533     1\n",
       "25   2023-11-13 14:01:44.840  16.351450  55.570533     1\n",
       "...                      ...        ...        ...   ...\n",
       "6388 2023-11-23 07:14:34.331  16.223633  55.487967   439\n",
       "6396 2023-11-23 07:14:54.315  16.223550  55.487950   439\n",
       "6412 2023-11-23 07:15:44.345  16.223367  55.487917   439\n",
       "6423 2023-11-23 07:15:58.314  16.223333  55.487933   439\n",
       "6439 2023-11-23 07:16:38.344  16.223217  55.487883   439\n",
       "\n",
       "[518 rows x 4 columns]"
      ]
     },
     "execution_count": 9,
     "metadata": {},
     "output_type": "execute_result"
    }
   ],
   "source": [
    "active_m1 = load_cmd(active_mission[0])\n",
    "active_m1"
   ]
  },
  {
   "cell_type": "markdown",
   "id": "e6bc6734",
   "metadata": {},
   "source": [
    "### Defining the transect\n",
    "We create a dictionary containing the waypoints of the transect so that we can understand if the glider is in or off the transect. We use the info contained in this dataframe, combined with the glider data to understand which transect the glider is in"
   ]
  },
  {
   "cell_type": "code",
   "execution_count": 10,
   "id": "120daa16",
   "metadata": {},
   "outputs": [],
   "source": [
    "mission_WP = { \"SAMBA_01\": {\n",
    "                \"names\": [ \"K11\", \"K6\",\"K14\", \"K7_19000\", \"K15\", \"K13\",\"K13_7500\", \"K11\"],\n",
    "                \"lon\": [11.3301, 11.0436,10.863,11.0280,11.1224,11.1277,11.1833,11.3301],\n",
    "                \"lat\": [57.8032, 58.1167, 58.1038, 57.9312, 57.8894, 57.8537, 57.7939,57.8032]},\n",
    "              'SAMBA_02':{\n",
    "                 'names': ['B2','B4'], \n",
    "                 'lon': [15.9833, 16.3514],\n",
    "                 'lat':[ 55.2500,55.5707 ]},\n",
    "             'SAMBA_03':{\n",
    "                 'names': ['G8','G2', 'G4'], \n",
    "                 'lon': [19.9293,19.9617, 19.7847],\n",
    "                 'lat':[ 58.1474,58.2551, 58.5162]},\n",
    "             'SAMBA_04':{'names': ['L1','L2', 'L3'],\n",
    "                 'lon': [18.9567, 18.8812, 18.2013],\n",
    "                 'lat': [58.1620, 58.4443, 58.5913]}, \n",
    "             'SAMBA_05':{\n",
    "                 'names': ['A1', 'A2'],\n",
    "                 'lon': [19.6948, 19.3669],\n",
    "                 'lat': [60.0003, 60.1165]}}"
   ]
  },
  {
   "cell_type": "code",
   "execution_count": 14,
   "id": "2d6a9e3f",
   "metadata": {},
   "outputs": [],
   "source": [
    "def find_area(ds, plot=False, ax = None):\n",
    "    for key in mission_WP.keys():\n",
    "        polygon_geom = LineString(list(zip(mission_WP[key]['lon'], mission_WP[key]['lat'])))\n",
    "        df_polytra = pd.DataFrame()\n",
    "        poly_tran = gpd.GeoDataFrame(df_polytra, crs='epsg:4326', geometry=[polygon_geom,]).to_crs('epsg:3006').buffer(5000)\n",
    "        buffer_poly= gpd.GeoDataFrame(geometry=poly_tran).to_crs('epsg:3006')\n",
    "\n",
    "        geo_glider = gpd.GeoDataFrame(ds, geometry=gpd.points_from_xy(ds.lon, ds.lat))\n",
    "        geo_glider = geo_glider.set_crs(epsg=4326).to_crs('epsg:3006')\n",
    "\n",
    "        polygons_contains = gpd.sjoin(buffer_poly, geo_glider, predicate='contains')\n",
    "        \n",
    "        if plot == True:\n",
    "            buffer_poly.plot(ax=ax,edgecolor='k', alpha=0.5)\n",
    "            geo_glider.geometry.plot(ax=ax)\n",
    "        \n",
    "        if len(polygons_contains) !=0:\n",
    "            area = key\n",
    "    return area"
   ]
  },
  {
   "cell_type": "code",
   "execution_count": 98,
   "id": "3f94deec",
   "metadata": {},
   "outputs": [
    {
     "data": {
      "text/plain": [
       "<cartopy.mpl.feature_artist.FeatureArtist at 0x220f4a3b760>"
      ]
     },
     "execution_count": 98,
     "metadata": {},
     "output_type": "execute_result"
    },
    {
     "data": {
      "image/png": "[encoded data removed]",
      "text/plain": [
       "<Figure size 432x288 with 1 Axes>"
      ]
     },
     "metadata": {
      "needs_background": "light"
     },
     "output_type": "display_data"
    }
   ],
   "source": [
    "import cartopy.crs as ccrs\n",
    "import matplotlib.pyplot as plt\n",
    "\n",
    "ax = plt.axes(projection=ccrs.epsg('3006'))\n",
    "ax.coastlines()"
   ]
  },
  {
   "cell_type": "code",
   "execution_count": null,
   "id": "8297e92f",
   "metadata": {},
   "outputs": [],
   "source": [
    "fig = plt.figure()\n",
    "ax = plt.axes(projection=ccrs.epsg('3006'))\n",
    "#ax = plt.axes(projection=ccrs.AzimuthalEquidistant(central_longitude=13, central_latitude=58))\n",
    "find_area(active_m1, plot=True, ax = ax)\n",
    "\n",
    "ax.coastlines()"
   ]
  },
  {
   "cell_type": "markdown",
   "id": "fb8342dc",
   "metadata": {},
   "source": [
    "### Understand if the glider is on the trasnect or not\n",
    "Once we have identified the transect, we want to analyse only the last 12h of data and see if the glider is on the transect within a buffer limit of 1.5km"
   ]
  },
  {
   "cell_type": "code",
   "execution_count": 79,
   "id": "1d419453",
   "metadata": {},
   "outputs": [],
   "source": [
    "def find_if_on_transect(ds, buff_lim=1500, time_lim=40, plot=False, ax =ax):\n",
    "    st_area = find_area(ds)\n",
    "    lineStringObj = LineString(list(zip(mission_WP[st_area]['lon'], mission_WP[st_area]['lat'])))\n",
    "    df_tra = pd.DataFrame()\n",
    "    df_tra['LineID'] = [101, ]\n",
    "    line_tran = gpd.GeoDataFrame(df_tra, crs='epsg:4326', geometry=[lineStringObj, ]).to_crs('epsg:3006').buffer(buff_lim) # this coordinate system is suitable for Sweden\n",
    "    buffer_df = gpd.GeoDataFrame(geometry=line_tran).to_crs('epsg:3006')\n",
    "\n",
    "    sub_glider = ds.where(ds.time > datetime.datetime.now() - datetime.timedelta(hours=time_lim)).dropna()\n",
    "    sub_mean = sub_glider.groupby('cycle').mean()\n",
    "    geo_glider = gpd.GeoDataFrame(sub_mean, geometry=gpd.points_from_xy(sub_mean.lon, sub_mean.lat))\n",
    "    geo_glider = geo_glider.set_crs(epsg=4326).to_crs('epsg:3006')\n",
    "\n",
    "    polygons_contains = gpd.sjoin(buffer_df, geo_glider, predicate='contains')\n",
    "\n",
    "    cycle_on = polygons_contains.index_right\n",
    "    all_cycle = sub_glider.cycle.unique()\n",
    "    distance = geo_glider.geometry.apply(lambda g: buffer_df.distance(g))\n",
    "    cycles_off = all_cycle[np.where(np.isin(all_cycle, cycle_on) == False)]\n",
    "    \n",
    "    if plot == True:\n",
    "            buffer_df.plot(ax=ax,edgecolor='k', alpha=0.5)\n",
    "            geo_glider.geometry.plot(ax=ax)\n",
    "            \n",
    "    return cycles_off,  (distance.where(distance != 0).dropna()).astype(int)\n"
   ]
  },
  {
   "cell_type": "code",
   "execution_count": 80,
   "id": "5103f9e8",
   "metadata": {},
   "outputs": [
    {
     "data": {
      "image/png": "[encoded data removed]",
      "text/plain": [
       "<Figure size 1440x1080 with 1 Axes>"
      ]
     },
     "metadata": {
      "needs_background": "light"
     },
     "output_type": "display_data"
    }
   ],
   "source": [
    "fig, ax = plt.subplots(1,1,figsize=(20, 15))\n",
    "off_c, dist = find_if_on_transect(active_m1, buff_lim=1500, time_lim=12, plot=True, ax =ax)"
   ]
  },
  {
   "cell_type": "markdown",
   "id": "3a8870ec",
   "metadata": {},
   "source": [
    "This shows that the glider was off the buffer area only once, at cycle 439 by 202m"
   ]
  },
  {
   "cell_type": "markdown",
   "id": "cca18dd0",
   "metadata": {},
   "source": [
    "### Create a table to summarize the info from all the active missions"
   ]
  },
  {
   "cell_type": "code",
   "execution_count": 56,
   "id": "297fad12",
   "metadata": {},
   "outputs": [
    {
     "name": "stderr",
     "output_type": "stream",
     "text": [
      "100%|████████████████████████████████████████████████████████████████████████████████████| 4/4 [00:14<00:00,  3.51s/it]\n"
     ]
    }
   ],
   "source": [
    "tab = pd.DataFrame(columns = ['glider','cycles_off', 'area', 'distance (m)'])\n",
    "tab.glider = range(0,len(active_mission))\n",
    "\n",
    "for i in tqdm.tqdm(range(len(active_mission))):\n",
    "    act1 = load_cmd(active_mission[i])\n",
    "    glid_off, dist_tra = find_if_on_transect(act1, buff_lim=1500, time_lim=8)\n",
    "    if len(glid_off) != 0:\n",
    "        tab.loc[i, 'glider'] = str(active_mission[i])[:-12][-9:]\n",
    "        tab.at[i, 'cycles_off'] = glid_off\n",
    "        tab.loc[i, 'area'] = find_area(act1)\n",
    "        tab.at[i, 'distance (m)'] = dist_tra.values.flatten()"
   ]
  },
  {
   "cell_type": "code",
   "execution_count": 57,
   "id": "0245e033",
   "metadata": {},
   "outputs": [
    {
     "data": {
      "text/html": [
       "<div>\n",
       "<style scoped>\n",
       "    .dataframe tbody tr th:only-of-type {\n",
       "        vertical-align: middle;\n",
       "    }\n",
       "\n",
       "    .dataframe tbody tr th {\n",
       "        vertical-align: top;\n",
       "    }\n",
       "\n",
       "    .dataframe thead th {\n",
       "        text-align: right;\n",
       "    }\n",
       "</style>\n",
       "<table border=\"1\" class=\"dataframe\">\n",
       "  <thead>\n",
       "    <tr style=\"text-align: right;\">\n",
       "      <th></th>\n",
       "      <th>glider</th>\n",
       "      <th>cycles_off</th>\n",
       "      <th>area</th>\n",
       "      <th>distance (m)</th>\n",
       "    </tr>\n",
       "  </thead>\n",
       "  <tbody>\n",
       "    <tr>\n",
       "      <th>0</th>\n",
       "      <td>sea063.67</td>\n",
       "      <td>[[439]]</td>\n",
       "      <td>SAMBA_02</td>\n",
       "      <td>[203.0]</td>\n",
       "    </tr>\n",
       "    <tr>\n",
       "      <th>1</th>\n",
       "      <td>sea066.52</td>\n",
       "      <td>[[96]]</td>\n",
       "      <td>SAMBA_04</td>\n",
       "      <td>[664.0]</td>\n",
       "    </tr>\n",
       "    <tr>\n",
       "      <th>2</th>\n",
       "      <td>sea069.21</td>\n",
       "      <td>[[224, 235]]</td>\n",
       "      <td>SAMBA_01</td>\n",
       "      <td>[2134.0, 2202.0]</td>\n",
       "    </tr>\n",
       "    <tr>\n",
       "      <th>3</th>\n",
       "      <td>3</td>\n",
       "      <td>NaN</td>\n",
       "      <td>NaN</td>\n",
       "      <td>NaN</td>\n",
       "    </tr>\n",
       "  </tbody>\n",
       "</table>\n",
       "</div>"
      ],
      "text/plain": [
       "      glider    cycles_off      area      distance (m)\n",
       "0  sea063.67       [[439]]  SAMBA_02           [203.0]\n",
       "1  sea066.52        [[96]]  SAMBA_04           [664.0]\n",
       "2  sea069.21  [[224, 235]]  SAMBA_01  [2134.0, 2202.0]\n",
       "3          3           NaN       NaN               NaN"
      ]
     },
     "execution_count": 57,
     "metadata": {},
     "output_type": "execute_result"
    }
   ],
   "source": [
    "tab"
   ]
  }
 ],
 "metadata": {
  "kernelspec": {
   "display_name": "Python 3 (ipykernel)",
   "language": "python",
   "name": "python3"
  },
  "language_info": {
   "codemirror_mode": {
    "name": "ipython",
    "version": 3
   },
   "file_extension": ".py",
   "mimetype": "text/x-python",
   "name": "python",
   "nbconvert_exporter": "python",
   "pygments_lexer": "ipython3",
   "version": "3.9.12"
  }
 },
 "nbformat": 4,
 "nbformat_minor": 5
}
